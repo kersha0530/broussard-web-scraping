{
 "cells": [
  {
   "cell_type": "markdown",
   "id": "08bed292-0d9d-4212-999e-ca41023ee680",
   "metadata": {},
   "source": [
    "# Web Mining and Applied NLP (44-620)\n",
    "# Web Scraping and NLP with Requests, BeautifulSoup, and spaCy\n",
    "# Student Name: Kersha Broussard"
   ]
  },
  {
   "cell_type": "code",
   "execution_count": 1,
   "id": "94ce8337-a18a-476c-a97f-0511d8d84419",
   "metadata": {},
   "outputs": [
    {
     "name": "stdout",
     "output_type": "stream",
     "text": [
      "Package                   Version\n",
      "------------------------- --------------\n",
      "annotated-types           0.7.0\n",
      "anyio                     4.9.0\n",
      "argon2-cffi               25.1.0\n",
      "argon2-cffi-bindings      21.2.0\n",
      "arrow                     1.3.0\n",
      "asttokens                 3.0.0\n",
      "async-lru                 2.0.5\n",
      "attrs                     25.3.0\n",
      "babel                     2.17.0\n",
      "beautifulsoup4            4.13.4\n",
      "bleach                    6.2.0\n",
      "blis                      1.3.0\n",
      "catalogue                 2.0.10\n",
      "certifi                   2025.7.14\n",
      "cffi                      1.17.1\n",
      "charset-normalizer        3.4.2\n",
      "click                     8.2.1\n",
      "cloudpathlib              0.21.1\n",
      "colorama                  0.4.6\n",
      "comm                      0.2.2\n",
      "confection                0.1.5\n",
      "contourpy                 1.3.2\n",
      "cycler                    0.12.1\n",
      "cymem                     2.0.11\n",
      "debugpy                   1.8.15\n",
      "decorator                 5.2.1\n",
      "defusedxml                0.7.1\n",
      "executing                 2.2.0\n",
      "fastjsonschema            2.21.1\n",
      "fonttools                 4.59.0\n",
      "fqdn                      1.5.1\n",
      "h11                       0.16.0\n",
      "html5lib                  1.1\n",
      "httpcore                  1.0.9\n",
      "httpx                     0.28.1\n",
      "idna                      3.10\n",
      "ipykernel                 6.29.5\n",
      "ipython                   9.4.0\n",
      "ipython_pygments_lexers   1.1.1\n",
      "isoduration               20.11.0\n",
      "jedi                      0.19.2\n",
      "Jinja2                    3.1.6\n",
      "joblib                    1.5.1\n",
      "json5                     0.12.0\n",
      "jsonpointer               3.0.0\n",
      "jsonschema                4.25.0\n",
      "jsonschema-specifications 2025.4.1\n",
      "jupyter_client            8.6.3\n",
      "jupyter_core              5.8.1\n",
      "jupyter-events            0.12.0\n",
      "jupyter-lsp               2.2.6\n",
      "jupyter_server            2.16.0\n",
      "jupyter_server_terminals  0.5.3\n",
      "jupyterlab                4.4.4\n",
      "jupyterlab_pygments       0.3.0\n",
      "jupyterlab_server         2.27.3\n",
      "kiwisolver                1.4.8\n",
      "langcodes                 3.5.0\n",
      "language_data             1.3.0\n",
      "lark                      1.2.2\n",
      "marisa-trie               1.2.1\n",
      "markdown-it-py            3.0.0\n",
      "MarkupSafe                3.0.2\n",
      "matplotlib                3.10.3\n",
      "matplotlib-inline         0.1.7\n",
      "mdurl                     0.1.2\n",
      "mistune                   3.1.3\n",
      "murmurhash                1.0.13\n",
      "nbclient                  0.10.2\n",
      "nbconvert                 7.16.6\n",
      "nbformat                  5.10.4\n",
      "nest-asyncio              1.6.0\n",
      "nltk                      3.9.1\n",
      "notebook_shim             0.2.4\n",
      "numpy                     2.3.1\n",
      "overrides                 7.7.0\n",
      "packaging                 25.0\n",
      "pandocfilters             1.5.1\n",
      "parso                     0.8.4\n",
      "pillow                    11.3.0\n",
      "pip                       24.0\n",
      "platformdirs              4.3.8\n",
      "preshed                   3.0.10\n",
      "prometheus_client         0.22.1\n",
      "prompt_toolkit            3.0.51\n",
      "psutil                    7.0.0\n",
      "pure_eval                 0.2.3\n",
      "pycparser                 2.22\n",
      "pydantic                  2.11.7\n",
      "pydantic_core             2.33.2\n",
      "Pygments                  2.19.2\n",
      "pyparsing                 3.2.3\n",
      "python-dateutil           2.9.0.post0\n",
      "python-json-logger        3.3.0\n",
      "pywin32                   311\n",
      "pywinpty                  2.0.15\n",
      "PyYAML                    6.0.2\n",
      "pyzmq                     27.0.0\n",
      "referencing               0.36.2\n",
      "regex                     2024.11.6\n",
      "requests                  2.32.4\n",
      "rfc3339-validator         0.1.4\n",
      "rfc3986-validator         0.1.1\n",
      "rfc3987-syntax            1.1.0\n",
      "rich                      14.0.0\n",
      "rpds-py                   0.26.0\n",
      "Send2Trash                1.8.3\n",
      "setuptools                65.5.0\n",
      "shellingham               1.5.4\n",
      "six                       1.17.0\n",
      "smart_open                7.3.0.post1\n",
      "sniffio                   1.3.1\n",
      "soupsieve                 2.7\n",
      "spacy                     3.8.7\n",
      "spacy-legacy              3.0.12\n",
      "spacy-loggers             1.0.5\n",
      "spacytextblob             5.0.0\n",
      "srsly                     2.5.1\n",
      "stack-data                0.6.3\n",
      "terminado                 0.18.1\n",
      "textblob                  0.19.0\n",
      "thinc                     8.3.6\n",
      "tinycss2                  1.4.0\n",
      "tornado                   6.5.1\n",
      "tqdm                      4.67.1\n",
      "traitlets                 5.14.3\n",
      "typer                     0.16.0\n",
      "types-python-dateutil     2.9.0.20250708\n",
      "typing_extensions         4.14.1\n",
      "typing-inspection         0.4.1\n",
      "uri-template              1.3.0\n",
      "urllib3                   2.5.0\n",
      "wasabi                    1.1.3\n",
      "wcwidth                   0.2.13\n",
      "weasel                    0.4.1\n",
      "webcolors                 24.11.1\n",
      "webencodings              0.5.1\n",
      "websocket-client          1.8.0\n",
      "wrapt                     1.17.2\n",
      "All prereqs installed.\n"
     ]
    },
    {
     "name": "stderr",
     "output_type": "stream",
     "text": [
      "\n",
      "[notice] A new release of pip is available: 24.0 -> 25.1.1\n",
      "[notice] To update, run: python.exe -m pip install --upgrade pip\n"
     ]
    }
   ],
   "source": [
    "from collections import Counter\n",
    "import pickle\n",
    "import requests\n",
    "import spacy\n",
    "from bs4 import BeautifulSoup\n",
    "import matplotlib.pyplot as plt\n",
    "\n",
    "!pip list\n",
    "\n",
    "print('All prereqs installed.')\n"
   ]
  },
  {
   "cell_type": "markdown",
   "id": "0b4a3f0b-428f-4fb1-8057-32e1f9f0ee89",
   "metadata": {},
   "source": [
    "### 1. Write code that extracts the article html from https://web.archive.org/web/20210327165005/https://hackaday.com/2021/03/22/how-laser-headlights-work/ and dumps it to a .pkl (or other appropriate file)"
   ]
  },
  {
   "cell_type": "code",
   "execution_count": 2,
   "id": "6b6cb375-e23f-4314-9985-b75dae2d144a",
   "metadata": {},
   "outputs": [
    {
     "name": "stdout",
     "output_type": "stream",
     "text": [
      "✅ HTML content saved to laser_headlights_article.pkl\n"
     ]
    }
   ],
   "source": [
    "import requests\n",
    "import pickle\n",
    "\n",
    "# URL of the article from the Wayback Machine\n",
    "url = \"https://web.archive.org/web/20210327165005/https://hackaday.com/2021/03/22/how-laser-headlights-work/\"\n",
    "\n",
    "# Fetch the article HTML\n",
    "response = requests.get(url)\n",
    "html_content = response.text\n",
    "\n",
    "# Save HTML to a .pkl file\n",
    "with open(\"laser_headlights_article.pkl\", \"wb\") as file:\n",
    "    pickle.dump(html_content, file)\n",
    "\n",
    "print(\"✅ HTML content saved to laser_headlights_article.pkl\")\n"
   ]
  },
  {
   "cell_type": "markdown",
   "id": "a2cfa737-3def-4d9c-8fc0-3d9884e73e52",
   "metadata": {},
   "source": [
    "### 2. Read in your article's html source from the file you created in question 1 and print it's text (use .get_text())"
   ]
  },
  {
   "cell_type": "code",
   "execution_count": 5,
   "id": "126941ad-5dd8-4e61-a1ec-b72337fd4a00",
   "metadata": {},
   "outputs": [
    {
     "name": "stderr",
     "output_type": "stream",
     "text": [
      "\n",
      "[notice] A new release of pip is available: 24.0 -> 25.1.1\n",
      "[notice] To update, run: python.exe -m pip install --upgrade pip\n"
     ]
    },
    {
     "name": "stdout",
     "output_type": "stream",
     "text": [
      "Requirement already satisfied: html5lib in c:\\users\\kbrou\\web.mining\\broussard-web-scraping\\venv\\lib\\site-packages (1.1)\n",
      "Requirement already satisfied: six>=1.9 in c:\\users\\kbrou\\web.mining\\broussard-web-scraping\\venv\\lib\\site-packages (from html5lib) (1.17.0)\n",
      "Requirement already satisfied: webencodings in c:\\users\\kbrou\\web.mining\\broussard-web-scraping\\venv\\lib\\site-packages (from html5lib) (0.5.1)\n",
      "\n",
      "\n",
      "\n",
      "\n",
      "\n",
      "\n",
      "\n",
      "\n",
      "\n",
      "\n",
      "\n",
      "\n",
      "\n",
      "\n",
      "\n",
      "\n",
      "How Laser Headlights Work | Hackaday\n",
      "\n",
      "\n",
      "\n",
      "\n",
      "\n",
      "\n",
      "\n",
      "\n",
      "\n",
      "\n",
      "\n",
      "\n",
      "\n",
      "\n",
      "\n",
      "\n",
      "\n",
      "\n",
      "\n",
      "\n",
      "\n",
      "\n",
      "\n",
      "\n",
      "\n",
      "\n",
      "\n",
      "\n",
      "\n",
      "\n",
      "\n",
      "\n",
      "\n",
      "\n",
      "\n",
      "\n",
      "\n",
      "\n",
      "\n",
      "\n",
      "\n",
      "\n",
      "\n",
      "\n",
      "\n",
      "\n",
      "\n",
      "\n",
      "\n",
      "\n",
      "\n",
      "\n",
      "\n",
      "\n",
      "\n",
      "\n",
      "\n",
      "\n",
      "\n",
      "\n",
      "\n",
      "\n",
      "\n",
      "\n",
      "\n",
      "\n",
      "\n",
      "\n",
      "\n",
      "\n",
      "Skip to content\n",
      "\n",
      "\n",
      "\n",
      "\n",
      "\n",
      "\n",
      "Hackaday\n",
      "\n",
      "\n",
      "Primary Menu\n",
      "\n",
      "Home\n",
      "Blog\n",
      "Hackaday.io\n",
      "Tindie\n",
      "Hackaday Prize\n",
      "Submit\n",
      "About\n",
      "\n",
      "\n",
      "Search for:\n",
      "\n",
      "\n",
      "\n",
      " March 27, 2021 \n",
      "\n",
      "\n",
      "\n",
      "\n",
      "\n",
      "\n",
      "How Laser Headlights Work\n",
      "\n",
      "\n",
      "                130 Comments            \n",
      "\n",
      "by:\n",
      "Lewin Day\n",
      "\n",
      "\n",
      "\n",
      "March 22, 2021\n",
      "\n",
      "\n",
      "\n",
      "\n",
      "\n",
      "\n",
      "\n",
      "\n",
      "When we think about the onward march of automotive technology, headlights aren’t usually the first thing that come to mind. Engines, fuel efficiency, and the switch to electric power are all more front of mind. However, that doesn’t mean there aren’t thousands of engineers around the world working to improve the state of the art in automotive lighting day in, day out.\n",
      "Sealed beam headlights gave way to more modern designs once regulations loosened up, while bulbs moved from simple halogens to xenon HIDs and, more recently, LEDs. Now, a new technology is on the scene, with lasers!\n",
      "\n",
      "Laser Headlights?!\n",
      "BWM’s prototype laser headlight assemblies undergoing testing.\n",
      "The first image brought to mind by the phrase “laser headlights” is that of laser beams firing out the front of an automobile. Obviously, coherent beams of monochromatic light would make for poor illumination outside of a very specific spot quite some distance away. Thankfully for our eyes, laser headlights don’t work in this way at all.\n",
      "Instead, laser headlights consist of one or more solid state laser diodes mounted inside the headlight. These blu\n"
     ]
    }
   ],
   "source": [
    "import pickle\n",
    "from bs4 import BeautifulSoup\n",
    "!pip install html5lib\n",
    "\n",
    "\n",
    "# Load the HTML from the pickle file\n",
    "with open(\"laser_headlights_article.pkl\", \"rb\") as file:\n",
    "    html_content = pickle.load(file)\n",
    "\n",
    "# Parse the HTML using BeautifulSoup\n",
    "soup = BeautifulSoup(html_content, \"html.parser\")\n",
    "\n",
    "# Extract and print the plain text\n",
    "article_text = soup.get_text()\n",
    "print(article_text[:1500])  # print first 1500 characters to preview\n"
   ]
  },
  {
   "cell_type": "markdown",
   "id": "41c221f3-17f9-4bac-b102-f25ae0420e71",
   "metadata": {},
   "source": [
    "### 3. Load the article text into a trained spaCy pipeline, and determine the 5 most frequent tokens (converted to lower case). Print the common tokens with an appropriate label. Additionally, print the tokens their frequencies (with appropriate labels). Make sure to remove things we don't care about (punctuation, stopwords, whitespace)."
   ]
  },
  {
   "cell_type": "code",
   "execution_count": 7,
   "id": "cff1cb3b-a7f4-47ab-946e-4ef0114e88c7",
   "metadata": {},
   "outputs": [
    {
     "name": "stdout",
     "output_type": "stream",
     "text": [
      "Top 5 most frequent tokens (lowercase, filtered):\n",
      "comment: 136\n",
      "march: 133\n",
      "2021: 133\n",
      "says: 132\n",
      "report: 130\n"
     ]
    }
   ],
   "source": [
    "import spacy\n",
    "from collections import Counter\n",
    "\n",
    "# Load spaCy English model\n",
    "nlp = spacy.load(\"en_core_web_sm\")\n",
    "\n",
    "# Run spaCy pipeline on the article text\n",
    "doc = nlp(article_text)\n",
    "\n",
    "# Filter and lowercase tokens\n",
    "tokens = [\n",
    "    token.text.lower()\n",
    "    for token in doc\n",
    "    if not token.is_stop and not token.is_punct and not token.is_space\n",
    "]\n",
    "\n",
    "# Count and display top 5 frequent tokens\n",
    "token_freq = Counter(tokens)\n",
    "most_common_tokens = token_freq.most_common(5)\n",
    "\n",
    "print(\"Top 5 most frequent tokens (lowercase, filtered):\")\n",
    "for token, freq in most_common_tokens:\n",
    "    print(f\"{token}: {freq}\")\n"
   ]
  },
  {
   "cell_type": "markdown",
   "id": "31704c57-2ac3-477d-ac3c-60f2a1f3ba70",
   "metadata": {},
   "source": [
    "### 4. Load the article text into a trained spaCy pipeline, and determine the 5 most frequent lemmas (converted to lower case). Print the common lemmas with an appropriate label. Additionally, print the lemmas with their frequencies (with appropriate labels). Make sure to remove things we don't care about (punctuation, stopwords, whitespace)."
   ]
  },
  {
   "cell_type": "code",
   "execution_count": 8,
   "id": "242d96c4-ae38-41c3-81cc-3e56b8f427a6",
   "metadata": {},
   "outputs": [
    {
     "name": "stdout",
     "output_type": "stream",
     "text": [
      "Top 5 most frequent lemmas (lowercase, filtered):\n",
      "comment: 157\n",
      "say: 134\n",
      "march: 133\n",
      "2021: 133\n",
      "report: 130\n"
     ]
    }
   ],
   "source": [
    "# Filter and lowercase lemmas\n",
    "lemmas = [\n",
    "    token.lemma_.lower()\n",
    "    for token in doc\n",
    "    if not token.is_stop and not token.is_punct and not token.is_space\n",
    "]\n",
    "\n",
    "# Count and display top 5 frequent lemmas\n",
    "lemma_freq = Counter(lemmas)\n",
    "most_common_lemmas = lemma_freq.most_common(5)\n",
    "\n",
    "print(\"Top 5 most frequent lemmas (lowercase, filtered):\")\n",
    "for lemma, freq in most_common_lemmas:\n",
    "    print(f\"{lemma}: {freq}\")\n"
   ]
  },
  {
   "cell_type": "markdown",
   "id": "21667d27-92cb-4fbd-b2b6-f8aa99bd7348",
   "metadata": {},
   "source": [
    "### 5. Define the following methods:\n",
    "score_sentence_by_token(sentence, interesting_token) that takes a sentence and a list of interesting token and returns the number of times that any of the interesting words appear in the sentence divided by the number of words in the sentence\n",
    "score_sentence_by_lemma(sentence, interesting_lemmas) that takes a sentence and a list of interesting lemmas and returns the number of times that any of the interesting lemmas appear in the sentence divided by the number of words in the sentence\n",
    "\n",
    "You may find some of the code from the in class notes useful; feel free to use methods (rewrite them in this cell as well). Test them by showing the score of the first sentence in your article using the frequent tokens and frequent lemmas identified in question 3."
   ]
  },
  {
   "cell_type": "code",
   "execution_count": 10,
   "id": "a8fcf765-b957-4670-b9bd-03553f4b941e",
   "metadata": {},
   "outputs": [
    {
     "name": "stdout",
     "output_type": "stream",
     "text": [
      "Token-based score: 0.08620689655172414\n",
      "Lemma-based score: 0.10344827586206896\n"
     ]
    }
   ],
   "source": [
    "# Get the first sentence from the spaCy doc\n",
    "first_sentence = list(doc.sents)[0].text\n",
    "\n",
    "# Extract token and lemma lists from earlier\n",
    "interesting_tokens = [token for token, _ in most_common_tokens]\n",
    "interesting_lemmas = [lemma for lemma, _ in most_common_lemmas]\n",
    "\n",
    "# Score it\n",
    "print(\"Token-based score:\", score_sentence_by_token(first_sentence, interesting_tokens))\n",
    "print(\"Lemma-based score:\", score_sentence_by_lemma(first_sentence, interesting_lemmas))\n"
   ]
  },
  {
   "cell_type": "markdown",
   "id": "9b8726ed-678d-4672-a8f7-bc661a4d953e",
   "metadata": {},
   "source": [
    "### 6. Make a list containing the scores (using tokens) of every sentence in the article, and plot a histogram with appropriate titles and axis labels of the scores. From your histogram, what seems to be the most common range of scores (put the answer in a comment after your code)?"
   ]
  },
  {
   "cell_type": "code",
   "execution_count": 11,
   "id": "369c0ef9-1705-4640-8f5c-d1ddea3bcacc",
   "metadata": {},
   "outputs": [
    {
     "data": {
      "image/png": "[encoded data removed]",
      "text/plain": [
       "<Figure size 1000x600 with 1 Axes>"
      ]
     },
     "metadata": {},
     "output_type": "display_data"
    }
   ],
   "source": [
    "import matplotlib.pyplot as plt\n",
    "\n",
    "# Create a list of scores (using tokens)\n",
    "token_scores = [score_sentence_by_token(sent.text, interesting_tokens) for sent in doc.sents]\n",
    "\n",
    "# Plot histogram\n",
    "plt.figure(figsize=(10,6))\n",
    "plt.hist(token_scores, bins=10, edgecolor='black')\n",
    "plt.title(\"Histogram of Sentence Scores (Token-based)\")\n",
    "plt.xlabel(\"Score\")\n",
    "plt.ylabel(\"Number of Sentences\")\n",
    "plt.grid(True)\n",
    "plt.show()\n"
   ]
  },
  {
   "cell_type": "markdown",
   "id": "3727b4c2-7434-47e6-b75f-4d1849a42d64",
   "metadata": {},
   "source": [
    "# 📝 Comment on the result\n",
    "### Most common score range appears to be between 0.0 and 0.1 based on the histogram."
   ]
  },
  {
   "cell_type": "markdown",
   "id": "5d5b5efc-116e-4ed8-858d-7b8e29cde149",
   "metadata": {},
   "source": [
    "### 7. Make a list containing the scores (using lemmas) of every sentence in the article, and plot a histogram with appropriate titles and axis labels of the scores. From your histogram, what seems to be the most common range of scores (put the answer in a comment after your code)?"
   ]
  },
  {
   "cell_type": "code",
   "execution_count": 12,
   "id": "cfb94a84-76e8-4717-96c0-599f61b37542",
   "metadata": {},
   "outputs": [
    {
     "data": {
      "image/png": "[encoded data removed]",
      "text/plain": [
       "<Figure size 1000x600 with 1 Axes>"
      ]
     },
     "metadata": {},
     "output_type": "display_data"
    }
   ],
   "source": [
    "# Score each sentence based on interesting lemmas\n",
    "lemma_scores = [score_sentence_by_lemma(sent.text, interesting_lemmas) for sent in doc.sents]\n",
    "\n",
    "# Plot histogram\n",
    "plt.figure(figsize=(10,6))\n",
    "plt.hist(lemma_scores, bins=10, edgecolor='black')\n",
    "plt.title(\"Histogram of Sentence Scores (Lemma-based)\")\n",
    "plt.xlabel(\"Score\")\n",
    "plt.ylabel(\"Number of Sentences\")\n",
    "plt.grid(True)\n",
    "plt.show()\n",
    "\n"
   ]
  },
  {
   "cell_type": "markdown",
   "id": "a5758a0b-bede-4762-b196-a10b40858efc",
   "metadata": {},
   "source": [
    "# 📝 Comment\n",
    "### Most common score range seems to fall between 0.0 and 0.1 again, suggesting few lemmas repeat frequently within single sentences."
   ]
  },
  {
   "cell_type": "markdown",
   "id": "2a78a204-510e-4a43-88a0-aa3233ad4b1b",
   "metadata": {},
   "source": [
    "### 8. Which tokens and lexems would be ommitted from the lists generated in questions 3 and 4 if we only wanted to consider nouns as interesting words? How might we change the code to only consider nouns? Put your answer in this Markdown cell (you can edit it by double clicking it)."
   ]
  },
  {
   "cell_type": "markdown",
   "id": "ea9bcff0-81d3-485b-9a6a-ac2fea0bfc84",
   "metadata": {},
   "source": [
    "#### * To filter tokens or lemmas to include only nouns, you can use the .pos_ attribute in spaCy, which identifies a token’s part of speech.\n",
    "This is how I'd modify token frequency logic from Task 3 or 4:\n",
    "\n",
    "#### *Only keep tokens that are nouns, not punctuation, stopwords, or whitespace\n",
    "nouns = [token.text.lower() for token in doc \n",
    "         if token.is_alpha \n",
    "         and not token.is_stop \n",
    "         and token.pos_ == \"NOUN\"]\n",
    "          \n",
    "\n",
    "#### * For lemmas:\n",
    "\n",
    "nouns_lemmas = [token.lemma_.lower() for token in doc \n",
    "                if token.is_alpha \n",
    "                and not token.is_stop \n",
    "                and token.pos_ == \"NOUN\"]\n",
    "\n",
    "                * Then I could still use the Counter(nouns) or Counter(nouns_lemmas) just like before to get the top 5 frequent items.\n",
    "\n"
   ]
  },
  {
   "cell_type": "markdown",
   "id": "52f7a205-68ee-4509-a017-cc5b1bb37c85",
   "metadata": {},
   "source": [
    "##### * For token frequency logic from Task 3 or 4:"
   ]
  },
  {
   "cell_type": "code",
   "execution_count": 13,
   "id": "1a0e3a00-1af5-47d8-8467-d5e33b5c75c2",
   "metadata": {},
   "outputs": [],
   "source": [
    "# Only keep tokens that are nouns, not punctuation, stopwords, or whitespace\n",
    "nouns = [token.text.lower() for token in doc \n",
    "         if token.is_alpha \n",
    "         and not token.is_stop \n",
    "         and token.pos_ == \"NOUN\"]\n"
   ]
  },
  {
   "cell_type": "markdown",
   "id": "8c570b9f-e45c-4ab2-b3c4-571a5c23ccfe",
   "metadata": {},
   "source": [
    "##### * For Lemmas "
   ]
  },
  {
   "cell_type": "code",
   "execution_count": 14,
   "id": "f2589066-a5a5-4cd1-86ab-18105579732e",
   "metadata": {},
   "outputs": [],
   "source": [
    "nouns_lemmas = [token.lemma_.lower() for token in doc \n",
    "                if token.is_alpha \n",
    "                and not token.is_stop \n",
    "                and token.pos_ == \"NOUN\"]\n"
   ]
  },
  {
   "cell_type": "code",
   "execution_count": null,
   "id": "44be04f8-5f60-41e5-8fe6-1a25917f175f",
   "metadata": {},
   "outputs": [],
   "source": []
  }
 ],
 "metadata": {
  "kernelspec": {
   "display_name": "Python 3 (ipykernel)",
   "language": "python",
   "name": "python3"
  },
  "language_info": {
   "codemirror_mode": {
    "name": "ipython",
    "version": 3
   },
   "file_extension": ".py",
   "mimetype": "text/x-python",
   "name": "python",
   "nbconvert_exporter": "python",
   "pygments_lexer": "ipython3",
   "version": "3.11.9"
  }
 },
 "nbformat": 4,
 "nbformat_minor": 5
}
